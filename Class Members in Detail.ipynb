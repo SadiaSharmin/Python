{
  "nbformat": 4,
  "nbformat_minor": 0,
  "metadata": {
    "colab": {
      "name": "Class Members in Detail.ipynb",
      "provenance": [],
      "collapsed_sections": [],
      "include_colab_link": true
    },
    "kernelspec": {
      "display_name": "Python 3",
      "language": "python",
      "name": "python3"
    },
    "language_info": {
      "codemirror_mode": {
        "name": "ipython",
        "version": 3
      },
      "file_extension": ".py",
      "mimetype": "text/x-python",
      "name": "python",
      "nbconvert_exporter": "python",
      "pygments_lexer": "ipython3",
      "version": "3.8.5"
    }
  },
  "cells": [
    {
      "cell_type": "markdown",
      "metadata": {
        "id": "view-in-github",
        "colab_type": "text"
      },
      "source": [
        "<a href=\"https://colab.research.google.com/github/SadiaSharmin/Python/blob/main/Class%20Members%20in%20Detail.ipynb\" target=\"_parent\"><img src=\"https://colab.research.google.com/assets/colab-badge.svg\" alt=\"Open In Colab\"/></a>"
      ]
    },
    {
      "cell_type": "markdown",
      "metadata": {
        "id": "-Tph96_NdlpO"
      },
      "source": [
        "# Class Members in Detail\n",
        "\n",
        "There are several variations of both variables and methods which are useful to know about. This notebook introduces different categories of class members.\n",
        "\n",
        "## Variables\n",
        "\n",
        "### Instance Variables\n",
        "\n",
        "Instance variables are stored within an instance of a class and so may only be assigned or accessed from an instance of a class. For example, they may be accessed using ```[instance_name].[instance_variable_name]``` or within an instance method using the ```self.[name]``` syntax. Instance variables with the same name in different instances of a class will have independent values. In the following example, ```instance_var_1``` and ```instance_var_2``` are instance variables of the ```example_instance``` variable."
      ]
    },
    {
      "cell_type": "code",
      "metadata": {
        "id": "sMw20-Wmdj3t"
      },
      "source": [
        "class ExampleClassA:\n",
        "  def set_instance_var_1(self, value):\n",
        "    self.instance_var_1 = value\n",
        "    \n",
        "example_instance_A = ExampleClassA()\n",
        "example_instance_A.set_instance_var_1(4)\n",
        "example_instance_A.instance_var_2 = False\n",
        "\n",
        "print(example_instance_A.instance_var_1, example_instance_A.instance_var_2)"
      ],
      "execution_count": null,
      "outputs": []
    },
    {
      "cell_type": "markdown",
      "metadata": {
        "id": "cvm-4f2FjF11"
      },
      "source": [
        "### Class Variables\n",
        "\n",
        "Class variables belong to the class rather than an instance of a class. They may be assigned within the the class definition outside of a method, without using the ```self.``` syntax, or anywhere (after the declaration of the class) using the ```ClassName.[name]``` syntax. For instance:"
      ]
    },
    {
      "cell_type": "code",
      "metadata": {
        "id": "aD3t2nBxm9He"
      },
      "source": [
        "class ExampleClassB:\n",
        "  class_var_1 = 1\n",
        "\n",
        "  def change_class_var_1(self, value):\n",
        "    ExampleClassB.class_var_1 = value\n",
        "\n",
        "ExampleClassB.class_var_2 = \"a\""
      ],
      "execution_count": null,
      "outputs": []
    },
    {
      "cell_type": "markdown",
      "metadata": {
        "id": "2w0bgzYzrNAa"
      },
      "source": [
        "These variables may then be accessed through ```ClassName.[name]``` or ```instance_name.[name]```. For example:"
      ]
    },
    {
      "cell_type": "code",
      "metadata": {
        "id": "_yFgpyf2rbMM"
      },
      "source": [
        "print(ExampleClassB.class_var_1)\n",
        "\n",
        "example_instance_B = ExampleClassB()\n",
        "\n",
        "print(example_instance_B.class_var_2)"
      ],
      "execution_count": null,
      "outputs": []
    },
    {
      "cell_type": "markdown",
      "metadata": {
        "id": "UfhUY9OYr6kg"
      },
      "source": [
        "The key thing about class variables is to remember that they are associated with the class rather than the instance. As such, they are common to all instances of the class. Changing the class variable in one place will change it for all instances of the class as well. For example:"
      ]
    },
    {
      "cell_type": "code",
      "metadata": {
        "id": "krMTN03UsI4H"
      },
      "source": [
        "another_instance = ExampleClassB()\n",
        "\n",
        "print(ExampleClassB.class_var_1)\n",
        "print(example_instance_B.class_var_1)\n",
        "print(another_instance.class_var_1)\n",
        "\n",
        "example_instance_B.change_class_var_1(3)\n",
        "\n",
        "print(ExampleClassB.class_var_1)\n",
        "print(example_instance_B.class_var_1)\n",
        "print(another_instance.class_var_1)"
      ],
      "execution_count": null,
      "outputs": []
    },
    {
      "cell_type": "markdown",
      "metadata": {
        "id": "VcgcffeO7ZBq"
      },
      "source": [
        "Note that if an instance of a class has an instance variable with the same name as a class variable, the instance variable will be accessed from that instance rather than the class variable. For instance:"
      ]
    },
    {
      "cell_type": "code",
      "metadata": {
        "id": "CN2JITNn7nKg"
      },
      "source": [
        "example_instance_B.class_var_1 = \"an instance variable\"\n",
        "\n",
        "print(ExampleClassB.class_var_1)\n",
        "print(example_instance_B.class_var_1)\n",
        "print(another_instance.class_var_1)"
      ],
      "execution_count": null,
      "outputs": []
    },
    {
      "cell_type": "markdown",
      "metadata": {
        "id": "pj_fhGaCjITD"
      },
      "source": [
        "## Methods\n",
        "\n",
        "### Instance Methods\n",
        "\n",
        "Instance methods are functions associated with a class that have an argument which references the instance of the class which was used to call the method. This instance is sometimes referred to as the \"passed\" instance and normally, the argument referring to this instance has the name ```self```. This type of method can only be called from an instance of the class using the \"dot\" notation. This allows it to access both instance variables and class variables as well as other instance methods and class and static methods. For instance:"
      ]
    },
    {
      "cell_type": "code",
      "metadata": {
        "id": "G7vYWOdDrY68"
      },
      "source": [
        "class ExampleClassC:\n",
        "  class_var = 5\n",
        "  def instance_method_1(self):\n",
        "    print(\"Hello from instance method 1: \", self.a +self.class_var)\n",
        "\n",
        "example_instance_C = ExampleClassC()\n",
        "\n",
        "example_instance_C.a = 2\n",
        "example_instance_C.instance_method_1()"
      ],
      "execution_count": null,
      "outputs": []
    },
    {
      "cell_type": "markdown",
      "metadata": {
        "id": "0OBwfQ0Zjdcc"
      },
      "source": [
        "### Class Methods\n",
        "\n",
        "Class methods are defined within a context of a class but do not take a ```self``` argument to access an instance of the class and so cannot access instance variables or methods. Instead, it is conventional to use a variable name of ```cls``` for the first argument in the argument list. This argument is a reference to the class and allows access to class variables and methods and static methods of that class. When a class method is defined, the line before the ```def``` statement should contain the decorator ```@classmethod```. Class methods are accessed via the ```[class_name].[method_name]``` or ```[instance_name].[method_name]``` syntaxes. For instance:"
      ]
    },
    {
      "cell_type": "code",
      "metadata": {
        "id": "V45CjgUx2q69"
      },
      "source": [
        "class ExampleClassD:\n",
        "  class_variable = 2\n",
        "\n",
        "  @classmethod\n",
        "  def class_method(cls, a):\n",
        "    cls.class_variable = cls.class_variable + a\n",
        "    print(cls.class_variable)\n",
        "\n",
        "example_instance_D = ExampleClassD()\n",
        "\n",
        "ExampleClassD.class_method(3)\n",
        "example_instance_D.class_method(4)"
      ],
      "execution_count": null,
      "outputs": []
    },
    {
      "cell_type": "markdown",
      "metadata": {
        "id": "_bwrU2SfjSv8"
      },
      "source": [
        "### Static Methods\n",
        "\n",
        "Static methods are defined within the context of a class and do not take a ```self``` or ```cls``` argument. As a result they don't have access to instance methods or variables, class methods or variables or, indeed, other static variables of the class. When a class method is defined, the line before the ```def``` statement should contain the decorator ```@staticmethod```. Class methods are accessed via the ```[class_name].[method_name]``` or ```[instance_name].[method_name]``` syntaxes.\n",
        "\n",
        "For instance:"
      ]
    },
    {
      "cell_type": "code",
      "metadata": {
        "id": "bIPUltMtGzPk"
      },
      "source": [
        "class ExampleClassE:\n",
        "  @staticmethod\n",
        "  def addition(a, b):\n",
        "    return(a + b)\n",
        "\n",
        "example_instance_E = ExampleClassE()\n",
        "\n",
        "print(ExampleClassE.addition(1,2))\n",
        "print(example_instance_E .addition(3,4))"
      ],
      "execution_count": null,
      "outputs": []
    },
    {
      "cell_type": "markdown",
      "metadata": {
        "id": "-r1lIYocjrLj"
      },
      "source": [
        "## Exercise\n",
        "\n",
        "Now we will create a class which uses all of these different types of class member. This class will represent a circle and should be called \"Circle\". It will have the following members:\n",
        "\n",
        "*   ```calculate_area``` : A static method which calculates and returns the area of a circle from a radius, which is give as an argument\n",
        "*   ```n_circles_with_radius``` : A class variable which tracks the number of circles which have had a radius set. Should initially be zero\n",
        "*   ```increment_n_circles_with_radius``` : A class method which increases the value of ```n_circles_with_radius``` by one\n",
        "*   ```radius``` : An instance variable storing the radius of the circle as a float\n",
        "*   ```set_radius``` : An instance method which assigns to the radius instance variable\n",
        "*   ```get_area``` : An instance method which returns the area of the circle by passing the radius of the circle to the ```calculate_area``` method and returning the result\n",
        "\n",
        "Create two instances of the circle class and check that each gives the correct radius and that the value of ```n_circles_with_radius``` after each has its radius set.\n",
        "\n"
      ]
    },
    {
      "cell_type": "code",
      "metadata": {
        "id": "lvq0IWljR6DU"
      },
      "source": [
        ""
      ],
      "execution_count": null,
      "outputs": []
    },
    {
      "cell_type": "code",
      "metadata": {
        "id": "Ef1z23uNR6vb",
        "cellView": "form"
      },
      "source": [
        "#@title\n",
        "#Import the math module to give us access to the value of pi\n",
        "import math\n",
        "\n",
        "class Circle:\n",
        "  n_circles_with_radius = 0\n",
        "\n",
        "  #Note the decorator \"staticmethod\" and that we don't provide \"self\" or \"cls\" as an argument\n",
        "  @staticmethod\n",
        "  def calculate_area(radius):\n",
        "    return(math.pi * radius ** 2)\n",
        "\n",
        "  #Note the decorator \"classmethod\" and that we provide \"cls\" as an argument to represent the class\n",
        "  @classmethod\n",
        "  def increment_n_circles_with_radius(cls):\n",
        "    cls.n_circles_with_radius = cls.n_circles_with_radius + 1\n",
        "\n",
        "  #This is an instance method so we don't need a decorator. We proide \"self\" as an argument to reference the instance\n",
        "  def set_radius(self, radius):\n",
        "    self.radius = radius\n",
        "    Circle.increment_n_circles_with_radius()\n",
        "\n",
        "  #This is an instance method so we don't need a decorator. We proide \"self\" as an argument to reference the instance\n",
        "  def get_area(self):\n",
        "    return(self.calculate_area(self.radius))\n",
        "\n",
        "#Create our first instance\n",
        "circle1 = Circle()\n",
        "circle1.set_radius(1)\n",
        "print(\"Circle 1 area: \", circle1.get_area())\n",
        "print(\"number of circles with set radius: \", circle1.n_circles_with_radius)\n",
        "\n",
        "#Create the second instance\n",
        "circle2 = Circle()\n",
        "circle2.set_radius(2)\n",
        "print(\"Circle 2 area: \", circle2.get_area())\n",
        "print(\"number of circles with set radius: \", circle1.n_circles_with_radius)"
      ],
      "execution_count": null,
      "outputs": []
    }
  ]
}