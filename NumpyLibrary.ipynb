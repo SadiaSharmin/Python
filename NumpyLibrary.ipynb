{
  "nbformat": 4,
  "nbformat_minor": 0,
  "metadata": {
    "colab": {
      "name": "NumpyLibrary.ipynb",
      "provenance": [],
      "authorship_tag": "ABX9TyMCWBD5fFeUYKzN4ltacBRH",
      "include_colab_link": true
    },
    "kernelspec": {
      "name": "python3",
      "display_name": "Python 3"
    },
    "language_info": {
      "name": "python"
    }
  },
  "cells": [
    {
      "cell_type": "markdown",
      "metadata": {
        "id": "view-in-github",
        "colab_type": "text"
      },
      "source": [
        "<a href=\"https://colab.research.google.com/github/SadiaSharmin/Python/blob/main/NumpyLibrary.ipynb\" target=\"_parent\"><img src=\"https://colab.research.google.com/assets/colab-badge.svg\" alt=\"Open In Colab\"/></a>"
      ]
    },
    {
      "cell_type": "markdown",
      "metadata": {
        "id": "kn_55pTXSVo5"
      },
      "source": [
        "\n",
        "\n",
        "1. Numpy : large multi-dimensional array and matrix processing\n",
        "2. Pandas :  data analysis\n",
        "3. Matplotlib: visualization \n",
        "4. Scikit-learn\n",
        "5. Scipy\n",
        "6. TensorFlow : deep Learning\n",
        "7. Keras : deep Learning\n",
        "8. PyTorch: deep Learning\n"
      ]
    },
    {
      "cell_type": "code",
      "metadata": {
        "colab": {
          "base_uri": "https://localhost:8080/"
        },
        "id": "AdLa3XWpSVLY",
        "outputId": "47cca5eb-e7e8-4897-ba94-9dd9e6e227d6"
      },
      "source": [
        "import numpy as np\n",
        "\n",
        "#NumPy is a Python library used for working with arrays. NumPy is short for \"Numerical Python\".\n",
        "#NumPy aims to provide an array object that is up to 50x faster than traditional Python lists.\n",
        "a0 = np.array(23)\n",
        "print(a0)\n",
        "a1 = np.array([1, 2, 3, 4, 5])\n",
        "print(a1)\n",
        "a2 = np.array([[1, 2, 3,5],[4, 5, 6, 8]])\n",
        "print(a2)\n",
        "\n",
        "print(a2.ndim)\n",
        "print(a2[1,0])\n",
        "print(a2[1,-1])\n",
        "#[start:end:step].\n",
        "print(a2[1,0:2])\n",
        "print(a2[1,::3])\n",
        "\n",
        "print(a2.dtype)\n",
        "\n"
      ],
      "execution_count": 2,
      "outputs": [
        {
          "output_type": "stream",
          "text": [
            "23\n",
            "[1 2 3 4 5]\n",
            "[[1 2 3 5]\n",
            " [4 5 6 8]]\n",
            "2\n",
            "4\n",
            "8\n",
            "[4 5]\n",
            "[4 8]\n",
            "int64\n"
          ],
          "name": "stdout"
        }
      ]
    },
    {
      "cell_type": "code",
      "metadata": {
        "colab": {
          "base_uri": "https://localhost:8080/"
        },
        "id": "bzeRiWMUZ9vL",
        "outputId": "ce993916-5ca7-40bd-c7f9-82071dde6e1e"
      },
      "source": [
        "\n",
        "\n",
        "#NumPy arrays have an attribute called shape that returns a tuple with each index having the number of corresponding elements.\n",
        "\n",
        "print(a2.shape)\n",
        "\n",
        "#Reshaping means changing the shape of an array.\n",
        "#The shape of an array is the number of elements in each dimension.\n",
        "#By reshaping we can add or remove dimensions or change number of elements in each dimension.\n",
        "\n",
        "arr = np.array([1, 2, 3, 4, 5, 6, 7, 8, 9, 10, 11, 12])\n",
        "\n",
        "newarr = arr.reshape(4, 3)\n",
        "print(newarr)\n",
        "newarr1 = arr.reshape(2, 3, 2)\n",
        "print(newarr1)\n",
        "\n",
        "#Flattening the arrays\n",
        "#Flattening array means converting a multidimensional array into a 1D array.\n",
        "\n",
        "#We can use reshape(-1) to do this.\n",
        "\n",
        "\n",
        "newarr3 = newarr1.reshape(-1)\n",
        "\n",
        "print(newarr3)"
      ],
      "execution_count": 3,
      "outputs": [
        {
          "output_type": "stream",
          "text": [
            "(2, 4)\n",
            "[[ 1  2  3]\n",
            " [ 4  5  6]\n",
            " [ 7  8  9]\n",
            " [10 11 12]]\n",
            "[[[ 1  2]\n",
            "  [ 3  4]\n",
            "  [ 5  6]]\n",
            "\n",
            " [[ 7  8]\n",
            "  [ 9 10]\n",
            "  [11 12]]]\n",
            "[ 1  2  3  4  5  6  7  8  9 10 11 12]\n"
          ],
          "name": "stdout"
        }
      ]
    },
    {
      "cell_type": "code",
      "metadata": {
        "colab": {
          "base_uri": "https://localhost:8080/"
        },
        "id": "AslyxRGzaxjY",
        "outputId": "8ce62fab-39e5-4a8e-bd98-d1b2816768ae"
      },
      "source": [
        "#The numpy.zeros() function returns a new array of given shape and type, with zeros.\n",
        "rows, cols = 3,4\n",
        "array = np.zeros([3,3])\n",
        "array2 = np.zeros([rows,cols])\n",
        "print(array2)\n",
        "\n",
        "array3 = np.ones([rows,cols])\n",
        "print(array3)"
      ],
      "execution_count": 4,
      "outputs": [
        {
          "output_type": "stream",
          "text": [
            "[[0. 0. 0. 0.]\n",
            " [0. 0. 0. 0.]\n",
            " [0. 0. 0. 0.]]\n",
            "[[1. 1. 1. 1.]\n",
            " [1. 1. 1. 1.]\n",
            " [1. 1. 1. 1.]]\n"
          ],
          "name": "stdout"
        }
      ]
    },
    {
      "cell_type": "code",
      "metadata": {
        "colab": {
          "base_uri": "https://localhost:8080/"
        },
        "id": "_ZBU9Z8ahB_f",
        "outputId": "52975f6d-65e0-4c7b-fa8f-8df465b626f1"
      },
      "source": [
        "x = np.random.rand(2,5)\n",
        "print(x)\n",
        "\n",
        "y = np.random.randint(1,20, size = (3,3))\n",
        "print(y)\n",
        "\n",
        "z = np.random.randn(2,5)\n",
        "print(z)\n",
        "\n",
        "\n",
        "a = np.eye(5)\n",
        "a1 = np.eye(2, 3)\n",
        "print(a1)\n",
        "\n",
        "\n",
        "\n",
        "c = np.transpose(a1)\n",
        "print(c)"
      ],
      "execution_count": 5,
      "outputs": [
        {
          "output_type": "stream",
          "text": [
            "[[0.48746334 0.57318506 0.87295344 0.587563   0.98797214]\n",
            " [0.50714063 0.96994923 0.08916831 0.47452686 0.43042547]]\n",
            "[[ 6  3 19]\n",
            " [18  4 12]\n",
            " [ 2  6  6]]\n",
            "[[-1.47720794  1.63868405 -0.22244936  0.71935331 -0.15120891]\n",
            " [ 0.79781987 -0.05694261 -0.29109455 -0.80301239 -0.53562991]]\n",
            "[[1. 0. 0.]\n",
            " [0. 1. 0.]]\n",
            "[[1. 0.]\n",
            " [0. 1.]\n",
            " [0. 0.]]\n"
          ],
          "name": "stdout"
        }
      ]
    },
    {
      "cell_type": "code",
      "metadata": {
        "colab": {
          "base_uri": "https://localhost:8080/"
        },
        "id": "HFSXhE0L2ToJ",
        "outputId": "10e8ed9b-2c68-42de-f3ad-a4f8a1a87e87"
      },
      "source": [
        "a = [1,2,3]\n",
        "b = [3,5,6]\n",
        "\n",
        "x = np.hstack((a,b))\n",
        "print(x)\n",
        "\n",
        "y = np.vstack((a,b))\n",
        "\n",
        "print(y)"
      ],
      "execution_count": 6,
      "outputs": [
        {
          "output_type": "stream",
          "text": [
            "[1 2 3 3 5 6]\n",
            "[[1 2 3]\n",
            " [3 5 6]]\n"
          ],
          "name": "stdout"
        }
      ]
    }
  ]
}