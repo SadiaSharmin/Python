{
  "nbformat": 4,
  "nbformat_minor": 0,
  "metadata": {
    "colab": {
      "name": "NumpyLibrary.ipynb",
      "provenance": [],
      "authorship_tag": "ABX9TyOkTMsjIA2AbXwy6y49PlzB",
      "include_colab_link": true
    },
    "kernelspec": {
      "name": "python3",
      "display_name": "Python 3"
    },
    "language_info": {
      "name": "python"
    }
  },
  "cells": [
    {
      "cell_type": "markdown",
      "metadata": {
        "id": "view-in-github",
        "colab_type": "text"
      },
      "source": [
        "<a href=\"https://colab.research.google.com/github/SadiaSharmin/Python/blob/main/NumpyLibrary.ipynb\" target=\"_parent\"><img src=\"https://colab.research.google.com/assets/colab-badge.svg\" alt=\"Open In Colab\"/></a>"
      ]
    },
    {
      "cell_type": "markdown",
      "metadata": {
        "id": "kn_55pTXSVo5"
      },
      "source": [
        "\n",
        "\n",
        "1. Numpy : large multi-dimensional array and matrix processing\n",
        "2. Pandas :  data analysis\n",
        "3. Matplotlib: visualization \n",
        "4. Scikit-learn\n",
        "5. Scipy\n",
        "6. TensorFlow\n",
        "7. Keras\n",
        "8. PyTorch\n"
      ]
    },
    {
      "cell_type": "code",
      "metadata": {
        "colab": {
          "base_uri": "https://localhost:8080/"
        },
        "id": "AdLa3XWpSVLY",
        "outputId": "a57567cb-2c3b-409e-a643-9b0233e05a94"
      },
      "source": [
        "import numpy as np\n",
        "\n",
        "#NumPy is a Python library used for working with arrays. NumPy is short for \"Numerical Python\".\n",
        "#NumPy aims to provide an array object that is up to 50x faster than traditional Python lists.\n",
        "a0 = np.array(23)\n",
        "print(a0)\n",
        "a1 = np.array([1, 2, 3, 4, 5])\n",
        "print(a1)\n",
        "a2 = np.array([[1, 2, 3,5],[4, 5, 6, 8]])\n",
        "print(a2)\n",
        "\n",
        "print(a2.ndim)\n",
        "print(a2[1,0])\n",
        "print(a2[1,-1])\n",
        "#[start:end:step].\n",
        "print(a2[1,0:2])\n",
        "print(a2[1,::3])\n",
        "\n",
        "print(a2.dtype)\n",
        "\n"
      ],
      "execution_count": null,
      "outputs": [
        {
          "output_type": "stream",
          "text": [
            "23\n",
            "[1 2 3 4 5]\n",
            "[[1 2 3 5]\n",
            " [4 5 6 8]]\n",
            "2\n",
            "4\n",
            "8\n",
            "[4 5]\n",
            "[4 8]\n",
            "int64\n",
            "(2, 4)\n"
          ],
          "name": "stdout"
        }
      ]
    },
    {
      "cell_type": "code",
      "metadata": {
        "colab": {
          "base_uri": "https://localhost:8080/"
        },
        "id": "bzeRiWMUZ9vL",
        "outputId": "088522b5-a484-42dc-fee2-a40647588575"
      },
      "source": [
        "\n",
        "\n",
        "#NumPy arrays have an attribute called shape that returns a tuple with each index having the number of corresponding elements.\n",
        "\n",
        "print(a2.shape)\n",
        "\n",
        "#Reshaping means changing the shape of an array.\n",
        "#The shape of an array is the number of elements in each dimension.\n",
        "#By reshaping we can add or remove dimensions or change number of elements in each dimension.\n",
        "\n",
        "arr = np.array([1, 2, 3, 4, 5, 6, 7, 8, 9, 10, 11, 12])\n",
        "\n",
        "newarr = arr.reshape(4, 3)\n",
        "print(newarr)\n",
        "newarr1 = arr.reshape(2, 3, 2)\n",
        "print(newarr1)\n",
        "\n",
        "#Flattening the arrays\n",
        "#Flattening array means converting a multidimensional array into a 1D array.\n",
        "\n",
        "#We can use reshape(-1) to do this.\n",
        "\n",
        "\n",
        "newarr3 = newarr1.reshape(-1)\n",
        "\n",
        "print(newarr3)"
      ],
      "execution_count": null,
      "outputs": [
        {
          "output_type": "stream",
          "text": [
            "(2, 4)\n",
            "[[ 1  2  3]\n",
            " [ 4  5  6]\n",
            " [ 7  8  9]\n",
            " [10 11 12]]\n",
            "[[[ 1  2]\n",
            "  [ 3  4]\n",
            "  [ 5  6]]\n",
            "\n",
            " [[ 7  8]\n",
            "  [ 9 10]\n",
            "  [11 12]]]\n",
            "[ 1  2  3  4  5  6  7  8  9 10 11 12]\n"
          ],
          "name": "stdout"
        }
      ]
    },
    {
      "cell_type": "code",
      "metadata": {
        "colab": {
          "base_uri": "https://localhost:8080/"
        },
        "id": "AslyxRGzaxjY",
        "outputId": "8f562901-fe6d-4f90-b09f-eca4a1ed2ed3"
      },
      "source": [
        "#The numpy.zeros() function returns a new array of given shape and type, with zeros.\n",
        "rows, cols = 3,4\n",
        "array = np.zeros([3,3])\n",
        "array2 = np.zeros([rows,cols])\n",
        "print(array2)\n",
        "\n",
        "array3 = np.ones([rows,cols])\n",
        "print(array3)"
      ],
      "execution_count": null,
      "outputs": [
        {
          "output_type": "stream",
          "text": [
            "[[0. 0. 0. 0.]\n",
            " [0. 0. 0. 0.]\n",
            " [0. 0. 0. 0.]]\n",
            "[[1. 1. 1. 1.]\n",
            " [1. 1. 1. 1.]\n",
            " [1. 1. 1. 1.]]\n"
          ],
          "name": "stdout"
        }
      ]
    },
    {
      "cell_type": "code",
      "metadata": {
        "colab": {
          "base_uri": "https://localhost:8080/"
        },
        "id": "_ZBU9Z8ahB_f",
        "outputId": "9adb5e90-cade-40a5-ae43-e70ba64c5ff5"
      },
      "source": [
        "x = np.random.rand(2,5)\n",
        "print(x)\n",
        "\n",
        "y = np.random.randint(1,20, size = (3,3))\n",
        "print(y)\n",
        "\n",
        "z = np.random.randn(2,5)\n",
        "print(z)\n",
        "\n",
        "\n",
        "a = np.eye(5)\n",
        "a1 = np.eye(2, 3)\n",
        "print(a1)"
      ],
      "execution_count": null,
      "outputs": [
        {
          "output_type": "stream",
          "text": [
            "[[0.88656701 0.30611416 0.60336081 0.11209687 0.21067337]\n",
            " [0.3782115  0.56095355 0.24049271 0.19554221 0.17047432]]\n",
            "[[ 7  1  6]\n",
            " [ 5 11 11]\n",
            " [ 3  4 11]]\n",
            "[[-0.08223754  0.05795917  2.28172561  0.95578492  0.72823943]\n",
            " [ 0.32538493  0.49667165 -1.35487804  0.24342612 -0.93798146]]\n",
            "[[1. 0. 0.]\n",
            " [0. 1. 0.]]\n"
          ],
          "name": "stdout"
        }
      ]
    },
    {
      "cell_type": "code",
      "metadata": {
        "colab": {
          "base_uri": "https://localhost:8080/"
        },
        "id": "HFSXhE0L2ToJ",
        "outputId": "47507d34-341b-4c24-e7f4-239e45a3c3a7"
      },
      "source": [
        "a = [1,2,3]\n",
        "b = [3,5,6]\n",
        "\n",
        "x = np.hstack((a,b))\n",
        "print(x)"
      ],
      "execution_count": null,
      "outputs": [
        {
          "output_type": "stream",
          "text": [
            "[1 2 3 3 5 6]\n"
          ],
          "name": "stdout"
        }
      ]
    }
  ]
}