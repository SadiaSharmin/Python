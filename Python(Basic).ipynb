{
  "nbformat": 4,
  "nbformat_minor": 0,
  "metadata": {
    "colab": {
      "name": "Python(Basic).ipynb",
      "private_outputs": true,
      "provenance": [],
      "collapsed_sections": [],
      "include_colab_link": true
    },
    "kernelspec": {
      "name": "python3",
      "display_name": "Python 3"
    }
  },
  "cells": [
    {
      "cell_type": "markdown",
      "metadata": {
        "id": "view-in-github",
        "colab_type": "text"
      },
      "source": [
        "<a href=\"https://colab.research.google.com/github/SadiaSharmin/Python/blob/main/Python(Basic).ipynb\" target=\"_parent\"><img src=\"https://colab.research.google.com/assets/colab-badge.svg\" alt=\"Open In Colab\"/></a>"
      ]
    },
    {
      "cell_type": "code",
      "metadata": {
        "id": "C764N7I9ZWc1"
      },
      "source": [
        "x= 5 # variable declaration, A variable is created the moment you first assign a value to it.\n",
        "x= \"sadia \" \n",
        "print(x)\n",
        "y = 'sadia' # x and y is same\n",
        "\n",
        "#Python allows you to assign values to multiple variables in one line:\n",
        "a,b,c = \"vaiarble1\", \"variable2\", \"varaibel3\"\n",
        "print(a,b,c)\n",
        "\n",
        "#To combine both text and a variable, Python uses the + character:\n",
        "print(\"I am \" + y)\n",
        "print(x + y)"
      ],
      "execution_count": null,
      "outputs": []
    },
    {
      "cell_type": "markdown",
      "metadata": {
        "id": "VkXpPoeloleY"
      },
      "source": [
        "Python has the following data types built-in by default, in these categories:\n",
        "\n",
        "Text Type:\tstr \\\\\n",
        "Numeric Types:\tint, float, complex \\\\\n",
        "Sequence Types:\tlist, tuple, range \\\\\n",
        "Mapping Type:\tdict \\\\\n",
        "Set Types:\tset, frozenset \\\\\n",
        "Boolean Type:\tbool \\\\\n",
        "Binary Types:\tbytes, bytearray, memoryview"
      ]
    },
    {
      "cell_type": "code",
      "metadata": {
        "id": "WgvoyLoXyEDO"
      },
      "source": [
        "print(type(x))\n",
        "\n",
        "x = 1 # int\n",
        "y = 2.8 # float\n",
        "z = 1j # complex\n",
        "\n",
        "#convert from int to float:\n",
        "a = float(x)\n",
        "\n",
        "#convert from float to int:\n",
        "b = int(y)\n",
        "\n",
        "#convert from int to complex:\n",
        "c = complex(x)\n",
        "\n",
        "print(type(a))\n",
        "\n",
        "#casting in python\n",
        "\n",
        "x= int(\"5\")\n",
        "y = str(\"5.0\")\n",
        "print(x,y)"
      ],
      "execution_count": null,
      "outputs": []
    },
    {
      "cell_type": "code",
      "metadata": {
        "id": "AQDWrptizti8"
      },
      "source": [
        "#random number generation\n",
        "\n",
        "import random\n",
        "x= random.randrange(1,10)\n",
        "print(x)"
      ],
      "execution_count": null,
      "outputs": []
    },
    {
      "cell_type": "code",
      "metadata": {
        "id": "1q10grF-2QL_"
      },
      "source": [
        "k = \" String are\" # single line\n",
        "l= \"\"\" multiline \n",
        " string \"\"\" #multiple line string\n",
        "print(k,l)\n",
        "\n",
        "#Like many other popular programming languages, strings in Python are arrays of bytes representing unicode characters.\n",
        "print(k[1])\n",
        "\n",
        "#Slicing: You can return a range of characters by using the slice syntax.\n",
        "print(k[2:6])\n",
        "\n",
        "#Negative Indexing: Use negative indexes to start the slice from the end of the string:\n",
        "print(k[-3:-1])\n",
        "\n",
        "print(len(k))  #The len() function returns the length of a string:\n",
        "print(k.strip()) #The strip() method removes any whitespace from the beginning or the end:\n",
        "print(k.lower())\n",
        "print(k.upper())\n",
        "#more on w3school"
      ],
      "execution_count": null,
      "outputs": []
    },
    {
      "cell_type": "code",
      "metadata": {
        "id": "yHyqwas22p2M"
      },
      "source": [
        "a = 5**3 #power\n",
        "print(a)\n",
        "a = 5//3\n",
        "print(a) #the floor division // rounds the result down to the nearest whole number\n",
        "\n",
        "#identity operators\n",
        "\n",
        "x = [\"apple\", \"banana\"]\n",
        "y = [\"apple\", \"banana\"]\n",
        "z = x\n",
        "\n",
        "print(x is z)\n",
        "\n",
        "# returns True because z is the same object as x\n",
        "\n",
        "print(x is y)\n",
        "\n",
        "# returns False because x is not the same object as y, even if they have the same content\n",
        "\n",
        "print(x == y)\n",
        "\n",
        "# to demonstrate the difference betweeen \"is\" and \"==\": this comparison returns True because x is equal to y\n",
        "\n",
        "print(x is not z)\n",
        "\n",
        "# returns False because z is the same object as x\n",
        "\n",
        "print(x is not y)\n",
        "\n",
        "# returns True because x is not the same object as y, even if they have the same content\n",
        "\n",
        "print(x != y)\n",
        "\n",
        "# to demonstrate the difference betweeen \"is not\" and \"!=\": this comparison returns False because x is equal to y\n",
        "\n",
        "##membership operator\n",
        "\n",
        "x = [\"apple\", \"banana\"]\n",
        "\n",
        "print(\"pineapple\" not in x)\n",
        "print(\"banana\" in y)\n",
        "\n",
        "# returns True because a sequence with the value \"pineapple\" is not in the list"
      ],
      "execution_count": null,
      "outputs": []
    },
    {
      "cell_type": "markdown",
      "metadata": {
        "id": "hAEgtz8ssjnf"
      },
      "source": [
        "Python Collections (Arrays)\n",
        "There are four collection data types in the Python programming language: \\\\\n",
        "\n",
        "List is a collection which is ordered and changeable. Allows duplicate members. Python lists are written with <b>square</b> brackets. \\\\\n",
        "Tuple is a collection which is ordered and <b>unchangeable</b>. Allows duplicate members. tuples are written with <b>round</b> brackets. \\\\\n",
        "Set is a collection which is unordered and unindexed. No duplicate members. \\\\\n",
        "Dictionary is a collection which is unordered, changeable and indexed. No duplicate members."
      ]
    },
    {
      "cell_type": "code",
      "metadata": {
        "id": "sy9oSC4Isoeq"
      },
      "source": [
        "thislist = [\"apple\", \"banana\", \"cherry\", \"orange\", \"kiwi\", \"melon\", \"mango\"] # create list\n",
        "thislist = list((\"apple\", \"banana\", \"cherry\", \"orange\", \"kiwi\", \"melon\", \"mango\")) # create list using list constructor\n",
        "print(thislist)\n",
        "print(thislist[2]) #postive indexing\n",
        "print(thislist[-1]) #negative indexing\n",
        "print(thislist[1:5]) #The search will start at index 1 (included) and end at index 5 (not included).\n",
        "print(thislist[:5])\n",
        "print(thislist[-4:-1])\n",
        "print(len(thislist)) #length of the list\n",
        "thislist.sort() #sorting the list\n",
        "thislist.reverse() #Reverses the order of the list\n",
        "x= thislist.index(\"cherry\") #The index() method returns the position at the first occurrence of the specified value.\n",
        "y = thislist.count(\"cherry\") #returns the number of elements with the specified value.\n",
        "print(x,y)\n",
        "\n",
        "thislist[1]= \"jackfruit\" #replace\n",
        "print(thislist)\n",
        "thislist.insert(1, \"pomegrate\")  #insert\n",
        "print(thislist)\n",
        "thislist.append(\"jackfruit\") #insert at the end\n",
        "print(thislist)\n",
        "\n",
        "thislist1 = list(thislist) #Make a copy of a list\n",
        "thislist2 = thislist.copy() #Make a copy of a list\n",
        "\n",
        "thislist.remove(\"jackfruit\") #remove specifice item\n",
        "print(thislist)\n",
        "thislist.pop(2) #remove item from specifice index\n",
        "print(thislist)\n",
        "thislist.clear() #empties the item of the list\n",
        "print(thislist)\n",
        "\n",
        "del thislist #delete the list\n",
        "\n",
        "#join two list\n",
        "thislist3 = thislist1+ thislist2\n",
        "print(thislist3)\n",
        "\n",
        "thislist1.extend(thislist2)\n",
        "print(thislist1)\n",
        "\n",
        "#Loop Through a List\n",
        "\n",
        "for item in thislist1:\n",
        "  print(item)\n",
        "# determine if a specified item is present in a list use the in keyword:\n",
        "if \"apple\" in thislist1:\n",
        "  print(\"yes\")\n"
      ],
      "execution_count": null,
      "outputs": []
    },
    {
      "cell_type": "code",
      "metadata": {
        "id": "q3WTJih0vlKC"
      },
      "source": [
        "thistuple = (\"apple\", \"banana\", \"cherry\") #create tuple\n",
        "thistuple= tuple((\"apple\", \"banana\", \"cherry\"))\n",
        "\n",
        "#Once a tuple is created, you cannot change its values. Tuples are unchangeable, or immutable as it also is called.\n",
        "#But there is a workaround. You can convert the tuple into a list, change the list, and convert the list back into a tuple.\n",
        "\n",
        "y = list(thistuple)\n",
        "y[1]=\"mango\"\n",
        "thistuple = tuple(y)\n",
        "print(thistuple)\n",
        "\n",
        "#Once a tuple is created, you cannot add items to it and  You cannot remove items in a tuple.\n",
        "#To create a tuple with only one item, you have add a comma after the item, unless Python will not recognize the variable as a tuple.\n",
        "\n",
        "one_item_tuple = (\"mango\",)\n",
        "print(one_item_tuple)\n",
        "\n",
        "thistuple1 = (\"apple\")\n",
        "print(type(thistuple1))\n",
        "\n",
        "#join tuple\n",
        "tuple1 = thistuple + one_item_tuple\n",
        "print(tuple1)"
      ],
      "execution_count": null,
      "outputs": []
    },
    {
      "cell_type": "code",
      "metadata": {
        "id": "_96BUPe0Rivn"
      },
      "source": [
        "#A set is a collection which is unordered and unindexed. In Python sets are written with curly brackets.\n",
        "thisset = {\"apple\",\"orange\",\"melon\"}\n",
        "thiset = set((\"apple\",\"orange\",\"melon\"))\n",
        "print(thisset)\n",
        "\n",
        "#You cannot access items in a set by referring to an index, since sets are unordered the items has no index. \n",
        "#But you can loop through the set items using a for loop, or ask if a specified value is present in a set, by using the in keyword.\n",
        "\n",
        "for x in  thisset:\n",
        "  print(x)\n",
        "\n",
        "#Once a set is created, you cannot change its items, but you can add new items.\n",
        "\n",
        "thisset.add(\"banana\") #insert single items\n",
        "print(thisset)\n",
        "thisset.update([\"jackfruit\",\"cherry\"])\n",
        "print(thisset)\n",
        "\n",
        "#To remove an item in a set, use the remove(), or the discard() method.\n",
        "thisset.remove(\"orange\")\n",
        "thisset.discard(\"cherry\")\n",
        "print(thisset)\n",
        "\n",
        "#join two set (union or update)\n",
        "\n",
        "set1 = {\"a\", \"b\" , \"2\"}\n",
        "set2 = {\"1\",\"2\", \"3\"}\n",
        "set3 = set1.union(set2)\n",
        "print(set3)\n",
        "\n",
        "set1.update(set2)\n",
        "print(set1)\n",
        "\n",
        "# Set difference() Method Return a set that contains the items that only exist in set1, and not in set2\n",
        "z= set1.difference(set2)\n",
        "print(z)\n",
        "\n",
        "#Return a set that contains the items that exist in both set1, and set2:\n",
        "#Compare 3 sets, and return a set with items that is present in all 3 sets:\n",
        "z1 = set1.intersection(set2)\n",
        "print(z1)\n",
        "z1 = set1.intersection(set2,z)\n",
        "print(z1)"
      ],
      "execution_count": null,
      "outputs": []
    },
    {
      "cell_type": "code",
      "metadata": {
        "id": "3rzdZwIGSSOq"
      },
      "source": [
        "# A dictionary is a collection which is unordered, changeable and indexed. \n",
        "#In Python dictionaries are written with curly brackets, and they have keys and values.\n",
        "\n",
        "thisdict= {\n",
        "    \"brand\": \"Ford\",\n",
        "  \"model\": \"Mustang\",\n",
        "  \"year\": 1964\n",
        "}\n",
        "print(thisdict)\n",
        "\n",
        "#access item of dictionary\n",
        "x = thisdict[\"brand\"]\n",
        "y = thisdict[\"model\"]\n",
        "print(x,y)\n",
        "\n",
        "#printing the keys\n",
        "for x in thisdict:\n",
        "  print(x)\n",
        "\n",
        "#printing the values\n",
        "for x in thisdict:\n",
        "  print(thisdict[x])\n",
        "\n",
        "#change the item\n",
        "thisdict[\"year\"]= 1995\n",
        "\n",
        "print(thisdict)\n",
        "\n",
        "\n",
        "\n"
      ],
      "execution_count": null,
      "outputs": []
    },
    {
      "cell_type": "code",
      "metadata": {
        "id": "0iKqeZXWncll"
      },
      "source": [
        "#  function\n",
        "x =\"global\"\n",
        "def myfunc():\n",
        "  x= \"local\"\n",
        "  global y\n",
        "  y=\"gkeyword\" # use global keyoword to make the varaible global\n",
        "  print(x)\n",
        "\n",
        "myfunc()\n",
        "print(x,y)"
      ],
      "execution_count": null,
      "outputs": []
    },
    {
      "cell_type": "code",
      "metadata": {
        "id": "asTzSm-mF59w"
      },
      "source": [
        "#loop\n",
        "fruits = [\"apple\", \"banana\", \"cherry\"]\n",
        "for x in fruits:\n",
        "  print(x)\n",
        "\n",
        "fruits = [\"apple\", \"banana\", \"cherry\"]\n",
        "i = 0\n",
        "while i < len(fruits):\n",
        "  print(fruits[i])\n",
        "  i = i + 1\n",
        "  "
      ],
      "execution_count": null,
      "outputs": []
    },
    {
      "cell_type": "code",
      "metadata": {
        "id": "hCmEefxHaAsS"
      },
      "source": [
        "#conditional statement \n",
        "\n",
        "a=0\n",
        "if a<0:\n",
        "  print('a is negative')\n",
        "elif a>0:\n",
        "  print('a is positive')\n",
        "else:\n",
        "  print('a is zero')"
      ],
      "execution_count": null,
      "outputs": []
    },
    {
      "cell_type": "code",
      "metadata": {
        "id": "N9LzPehBagDk"
      },
      "source": [
        "#Reference \n",
        "a = [1, 2, 3]\n",
        "b = a # reference assignment. a and b are modified\n",
        "a[0] = 2\n",
        "print(a,b)"
      ],
      "execution_count": null,
      "outputs": []
    },
    {
      "cell_type": "code",
      "metadata": {
        "id": "uHtTvDJuahs4"
      },
      "source": [
        "#copy \n",
        "a = [1, 2, 3]\n",
        "c = a[:] # this is a copy. now a and b are different\n",
        "a[0] = 5\n",
        "print(a,c)\n",
        "\n",
        "print(len(a))\n",
        "a.sort()\n",
        "print(a)"
      ],
      "execution_count": null,
      "outputs": []
    }
  ]
}