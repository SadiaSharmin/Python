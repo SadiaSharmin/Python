{
  "cells": [
    {
      "cell_type": "markdown",
      "metadata": {
        "id": "view-in-github",
        "colab_type": "text"
      },
      "source": [
        "<a href=\"https://colab.research.google.com/github/SadiaSharmin/Python/blob/main/Matplotlib/Plot%20Types%20-%20Discrete%20Data.ipynb\" target=\"_parent\"><img src=\"https://colab.research.google.com/assets/colab-badge.svg\" alt=\"Open In Colab\"/></a>"
      ]
    },
    {
      "cell_type": "markdown",
      "metadata": {
        "id": "RfZNhhg2qgR1"
      },
      "source": [
        "# Plot Types - Discrete Data\n",
        "\n",
        "Discrete data, or categorical data, describes the case where data can only take certain values. This is in contrast to continuous data, where data can take any value. In this notebook, we'll look at some examples of different types of plots for discrete data. We'll keep the complexity of plots relatively simple for now, and build up more complexity in later notebooks."
      ]
    },
    {
      "cell_type": "markdown",
      "metadata": {
        "id": "BCtJL7_z78GJ"
      },
      "source": [
        "## Bar Plot\n",
        "\n",
        "We can use a simple bar plot from Matplotlib. To do this, we first need to import the relevant part of Matplotlib using ```import matplotlib.pyplot```. Assuming we import this as ```plt```, a bar plot can be inserted using ```plt.bar```. The manual page can be found [here](https://matplotlib.org/stable/api/_as_gen/matplotlib.pyplot.bar.html). Manual pages for particular plot types can be invaluable for explaining exactly how they work or learning about new options or functionality.\n",
        "\n",
        "Following that, we can set up our data. For now, we'll just manually specify lists containing the names of the categories and their values. However, this data can be generated from any source, such as as the result of a calculation, simulation or analysis of more complex data.\n",
        "\n",
        "We're using Maplotlib in a fairly simple way here, so we can change the label on the x-axis, y-axis and the title by setting ```plt.xlabel```, ```plt.ylabel``` and ```plt.title``` respectively. The way we're using Matplotlib in this example, there is only one figure being created, and this will set these properties of it.\n",
        "\n",
        "Finally, to plot the bar graph, we write ```plt.bar``` and provide to it the names of the categories and the values associated with each as arguments."
      ]
    },
    {
      "cell_type": "code",
      "execution_count": 1,
      "metadata": {
        "id": "r0DUET7SqdGS",
        "outputId": "be62274d-9776-4b34-bd3a-143ab683498e",
        "colab": {
          "base_uri": "https://localhost:8080/",
          "height": 312
        }
      },
      "outputs": [
        {
          "output_type": "execute_result",
          "data": {
            "text/plain": [
              "<BarContainer object of 6 artists>"
            ]
          },
          "metadata": {},
          "execution_count": 1
        },
        {
          "output_type": "display_data",
          "data": {
            "text/plain": [
              "<Figure size 432x288 with 1 Axes>"
            ],
            "image/png": "[encoded data removed]"
          },
          "metadata": {
            "needs_background": "light"
          }
        }
      ],
      "source": [
        "# Import matplotlib\n",
        "import matplotlib.pyplot as plt\n",
        "\n",
        "# Set up the categories\n",
        "x = [\"Maths\", \"Physics\", \"Biology\", \"Chemistry\", \"Medicine\", \"Computing\"]\n",
        "# Set up the values\n",
        "y = [10, 20, 32, 15, 27, 18]\n",
        "\n",
        "# Set up the label for x-axis\n",
        "plt.xlabel(\"Subject\")\n",
        "# Set up the label for the y-axis\n",
        "plt.ylabel(\"Number of Students\")\n",
        "# Set up the title of the chart\n",
        "plt.title(\"Favourite Subject\")\n",
        "\n",
        "# Plot the bar chart\n",
        "plt.bar(x, y)"
      ]
    },
    {
      "cell_type": "markdown",
      "metadata": {
        "id": "Gzc60KVx-fCI"
      },
      "source": [
        "## Stacked Bar Charts\n",
        "\n",
        "When using multiple plotting commands such as ```plt.bar``` they will be superimposed on the same figure. We can use this to plot two stacked bar charts, one on top of the other. We can cause the second series of bars to appear above the first by setting the ```bottoms``` argument of the ```plt.bars``` function call such that the bottom of the bars representing the conference papers is at the top of the bars representing the journal papers.\n",
        "\n",
        "When using the ```plt.bar``` functions, we also give each of these data series a name by setting the ```label``` argument. These labels are used when we use the ```legend``` function to instruct Matplotlib to set up a key."
      ]
    },
    {
      "cell_type": "code",
      "execution_count": 2,
      "metadata": {
        "id": "ribjz9w_7MBw",
        "outputId": "60a7a3c7-6c82-4306-e2cb-8de4f1614a00",
        "colab": {
          "base_uri": "https://localhost:8080/",
          "height": 312
        }
      },
      "outputs": [
        {
          "output_type": "execute_result",
          "data": {
            "text/plain": [
              "<matplotlib.legend.Legend at 0x7fda3599a450>"
            ]
          },
          "metadata": {},
          "execution_count": 2
        },
        {
          "output_type": "display_data",
          "data": {
            "text/plain": [
              "<Figure size 432x288 with 1 Axes>"
            ],
            "image/png": "[encoded data removed]"
          },
          "metadata": {
            "needs_background": "light"
          }
        }
      ],
      "source": [
        "# Import matplotlib\n",
        "import matplotlib.pyplot as plt\n",
        "\n",
        "# Set up the data\n",
        "years = [\"2017\", \"2018\", \"2019\", \"2020\"]\n",
        "journal = [2, 3, 1, 5]\n",
        "conference = [3, 0, 4, 1]\n",
        "\n",
        "# Set up the labels and the titles\n",
        "plt.ylabel(\"Number of Publications\")\n",
        "plt.xlabel(\"Year\")\n",
        "plt.title(\"Publications\")\n",
        "\n",
        "# Create a bar plot for each of the data series\n",
        "# The \"label\" argument adds a label to the series to be used in the key\n",
        "plt.bar(years, journal, label = \"Journal Papers\")\n",
        "# When adding the second data set, the \"bottom\" argument causes the bars to be stacked on top of the first bars\n",
        "plt.bar(years, conference, label = \"Conference Papers\", bottom = journal)\n",
        "\n",
        "# The legend command places a legend on the figure\n",
        "# Because the legend uses the labels set up in the plt.bar commands, it must appear after these commands\n",
        "plt.legend()"
      ]
    },
    {
      "cell_type": "markdown",
      "metadata": {
        "id": "qwcCDaIK6_lK"
      },
      "source": [
        "## Histograms\n",
        "\n",
        "Histograms are a type of chart which represent a distribution of values in a number of \"bins\". The width of a bar relates to the width of a bin and the area of the bar may relate to the number of values in that bin.\n",
        "\n",
        "A histogram may be inserted using ```plt.hist``` ([manual entry](https://matplotlib.org/stable/api/_as_gen/matplotlib.pyplot.hist.html)). The first argument is a list of values. These are the individual values which make up the distribution. By default, the y-axis shows the number of entries in each bin but the chart type can be caused to modify the heights to make the areas of the bins relate to the number of entries. The example below is deliberately simple - you will have a chance to explore more of the options in the exercise."
      ]
    },
    {
      "cell_type": "code",
      "execution_count": 3,
      "metadata": {
        "id": "JFxs6RsL8Xym",
        "outputId": "97ebdaf1-50d2-4726-8045-002e0512743d",
        "colab": {
          "base_uri": "https://localhost:8080/",
          "height": 317
        }
      },
      "outputs": [
        {
          "output_type": "execute_result",
          "data": {
            "text/plain": [
              "(array([1., 0., 2., 1., 3., 5., 3., 2., 2., 1.]),\n",
              " array([30., 36., 42., 48., 54., 60., 66., 72., 78., 84., 90.]),\n",
              " <a list of 10 Patch objects>)"
            ]
          },
          "metadata": {},
          "execution_count": 3
        },
        {
          "output_type": "display_data",
          "data": {
            "text/plain": [
              "<Figure size 432x288 with 1 Axes>"
            ],
            "image/png": "[encoded data removed]"
          },
          "metadata": {
            "needs_background": "light"
          }
        }
      ],
      "source": [
        "# Import matplotlib\n",
        "import matplotlib.pyplot as plt\n",
        "\n",
        "# Create the data\n",
        "test_scores = [65, 70, 59, 50, 75, 66, 64, 30, 63, 90, 61, 60, 68, 45, 72, 57, 54, 81, 83, 42]\n",
        "\n",
        "# Create the histogram\n",
        "plt.hist(test_scores)"
      ]
    },
    {
      "cell_type": "markdown",
      "metadata": {
        "id": "LbMzL_7eJqKT"
      },
      "source": [
        "## Pie Charts\n",
        "\n",
        "Creating a pie chart in Matplotlib requires using the ```plt.pie``` function ([manual entry](https://matplotlib.org/stable/api/_as_gen/matplotlib.pyplot.pie.html)). The only required argument is the sequence of values associated with each slice. The ```labels``` arguments accepts a sequence of strings.\n",
        "\n",
        "The ```explode``` argument takes a sequence of values which can cause certain segments to be exploded outward from the centre of the pie chart. The order of the values corresponds with the order of the values provided.\n",
        "\n",
        "The ```start_angle``` argument alters the angle (in degrees) the first value starts at. An angle of zero relates to the 3 o'clock position and increasingly positive values relate to anti-clockwise rotation."
      ]
    },
    {
      "cell_type": "code",
      "execution_count": null,
      "metadata": {
        "id": "ukI0IUcG_6Ku"
      },
      "outputs": [],
      "source": [
        "# Import matplotlib\n",
        "import matplotlib.pyplot as plt\n",
        "\n",
        "# Define the data\n",
        "classifications = [\"Fail\", \"3\", \"2:2\", \"2:1\", \"1\"]\n",
        "students = [2, 5, 30, 50, 30]\n",
        "\n",
        "# Plot the pie chart\n",
        "# The first argument sets the values relating to each slice\n",
        "# labels sets the name of each slice\n",
        "# explode causes slices to be \"exploded\" from the centre\n",
        "# startangle rotates the angle of the first slice of the pie chart\n",
        "plt.pie(students, labels = classifications, explode = [0.5, 0.1, 0, 0, 0], startangle = 45)"
      ]
    },
    {
      "cell_type": "markdown",
      "metadata": {
        "id": "HMddz0qNBF-I"
      },
      "source": [
        "## Exercise: A Stacked Histogram\n",
        "\n",
        "This exercise is designed to allow you to practice using the features we've explored in this notebook and to practice using the documentation to work out how to produce different effects in a figure.\n",
        "\n",
        "The heights of 20 males and 20 females have been recorded and are given in the cell below. Using this data, produce a histogram which shows the probability density function of the sample. \n",
        "\n",
        "* The male and female distributions should be separately visible, with one stacked on top of the other.\n",
        "* A legend should act as a key to the male and female data.\n",
        "* Add an appropriate title and appropriate labels on the x and y axes.\n",
        "* The histogram should specifically show the probability density function (i.e. area under the histogram should integrate to 1). For reference, this means the peak of histogram should be at about 3.5/m.\n",
        "* The bins of the histogram should each be 5cm wide and span the range 1.4m-2m (i.e. 1.4m-1.45m, 1.45m-1.5m, ... 1.95m-2m). \n",
        "\n",
        "You may find the ```hist``` [documentation](https://matplotlib.org/stable/api/_as_gen/matplotlib.pyplot.hist.html) helpful. "
      ]
    },
    {
      "cell_type": "code",
      "execution_count": null,
      "metadata": {
        "id": "nOLCTWaREezZ"
      },
      "outputs": [],
      "source": [
        "# The heights\n",
        "male = [1.7, 1.8, 1.75, 1.6, 1.82, 1.78, 1.84, 1.9, 1.79, 1.59, 1.72, 1.68, 1.63, 1.64, 1.75, 1.66, 1.8, 1.71, 1.55, 1.85]\n",
        "female = [1.5, 1.7, 1.6, 1.55, 1.67, 1.57, 1.62, 1.59, 1.45, 1.57, 1.79, 1.75, 1.64, 1.69, 1.62, 1.52, 1.74, 1.66, 1.67, 1.59]\n",
        "\n"
      ]
    },
    {
      "cell_type": "markdown",
      "metadata": {
        "id": "ZrwpCkPZHDxZ"
      },
      "source": [
        "Hints can be found in the code cell below"
      ]
    },
    {
      "cell_type": "code",
      "execution_count": null,
      "metadata": {
        "cellView": "form",
        "id": "yklyiG81HDVX"
      },
      "outputs": [],
      "source": [
        "#@title\n",
        "\n",
        "# Look at the \"x\" parameter to find out how to provide multiple data sets to hist\n",
        "# Look at the \"bins\" parameter to find out how to set the bins of the histogram\n",
        "# To find out how to stack the histograms, look at the \"stacked\" parameter\n",
        "# To find out how to makes sure the stacked histograms have an area of 1, examine the \"density\" parameter"
      ]
    },
    {
      "cell_type": "code",
      "execution_count": null,
      "metadata": {
        "cellView": "form",
        "id": "38Cm9SiJBJFq"
      },
      "outputs": [],
      "source": [
        "#@title\n",
        "\n",
        "# Import matplotlib\n",
        "import matplotlib.pyplot as plt\n",
        "\n",
        "# The heights\n",
        "male = [1.7, 1.8, 1.75, 1.6, 1.82, 1.78, 1.84, 1.9, 1.79, 1.59, 1.72, 1.68, 1.63, 1.64, 1.75, 1.66, 1.8, 1.71, 1.55, 1.85]\n",
        "female = [1.5, 1.7, 1.6, 1.55, 1.67, 1.57, 1.62, 1.59, 1.45, 1.57, 1.79, 1.75, 1.64, 1.69, 1.62, 1.52, 1.74, 1.66, 1.67, 1.59]\n",
        "# Put both the lists of heights into a single outer list\n",
        "heights = [male, female]\n",
        "\n",
        "# Create labels describing which data are in the two lists\n",
        "labels = [\"Male\", \"Female\"]\n",
        "\n",
        "# Set the x-label, y-label and title\n",
        "plt.xlabel(\"Height (m)\")\n",
        "plt.ylabel(\"PDF (1/m)\")\n",
        "plt.title(\"Height PDF\")\n",
        "\n",
        "# Create a list to specify the bins of the histogram\n",
        "bins = [1.4, 1.45, 1.5, 1.55, 1.6, 1.65, 1.7, 1.75, 1.8, 1.85, 1.9, 1.95, 2]\n",
        "\n",
        "# Plot the histogram\n",
        "# Provide heights to give both sets of data\n",
        "# Setting stacked = True causes the histograms to be stacked on top of each other\n",
        "# labels provides the labels for the different data sets\n",
        "# Setting density = True causes the integral of the histogram to be 1.\n",
        "# bins allows us to provide custom bins for the histogram\n",
        "plt.hist(heights, stacked = True, label = labels, density = True, bins = bins)\n",
        "\n",
        "# Cause a legend to be displayed\n",
        "plt.legend()"
      ]
    }
  ],
  "metadata": {
    "colab": {
      "collapsed_sections": [],
      "name": "Plot Types - Discrete Data.ipynb",
      "provenance": [],
      "include_colab_link": true
    },
    "kernelspec": {
      "display_name": "Python 3",
      "language": "python",
      "name": "python3"
    },
    "language_info": {
      "codemirror_mode": {
        "name": "ipython",
        "version": 3
      },
      "file_extension": ".py",
      "mimetype": "text/x-python",
      "name": "python",
      "nbconvert_exporter": "python",
      "pygments_lexer": "ipython3",
      "version": "3.8.5"
    }
  },
  "nbformat": 4,
  "nbformat_minor": 0
}